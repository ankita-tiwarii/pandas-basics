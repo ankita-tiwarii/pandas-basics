{
 "cells": [
  {
   "cell_type": "markdown",
   "id": "a7ba2603",
   "metadata": {},
   "source": [
    "# PANDAS  , 1D data structure"
   ]
  },
  {
   "cell_type": "markdown",
   "id": "e432d333",
   "metadata": {},
   "source": [
    "# series"
   ]
  },
  {
   "cell_type": "code",
   "execution_count": 7,
   "id": "36312d59",
   "metadata": {},
   "outputs": [
    {
     "name": "stdout",
     "output_type": "stream",
     "text": [
      "a    1.0\n",
      "b    2.0\n",
      "c    3.0\n",
      "d    4.0\n",
      "dtype: float64\n",
      "<class 'pandas.core.series.Series'>\n",
      "3.0\n"
     ]
    }
   ],
   "source": [
    "import pandas as pd\n",
    "x = [1,2,3,4]\n",
    "var = pd.Series(x , index = ['a' ,'b' ,'c' , 'd'] , dtype = 'float')\n",
    "print(var)\n",
    "print(type(var))\n",
    "print(var[2])"
   ]
  },
  {
   "cell_type": "code",
   "execution_count": 11,
   "id": "29702bbd",
   "metadata": {},
   "outputs": [
    {
     "name": "stdout",
     "output_type": "stream",
     "text": [
      "name    [python, c, c++, java]\n",
      "pop           [12, 13, 14, 15]\n",
      "rank              [1, 3, 4, 2]\n",
      "dtype: object\n"
     ]
    }
   ],
   "source": [
    "dic  = {'name' : ['python' , 'c' , 'c++' , 'java'] , \n",
    "        \"pop\" : [12,13,14,15] , 'rank' : [1,3,4,2]}\n",
    "       \n",
    "var1 = pd.Series(dic)   #jab mix data ka use krte h to data type object aati h isme string, int sab h \n",
    "print(var1)"
   ]
  },
  {
   "cell_type": "code",
   "execution_count": 13,
   "id": "dca94ef4",
   "metadata": {},
   "outputs": [
    {
     "name": "stdout",
     "output_type": "stream",
     "text": [
      "0    12\n",
      "dtype: int64\n"
     ]
    }
   ],
   "source": [
    "s = pd.Series(12)\n",
    "print(s)\n"
   ]
  },
  {
   "cell_type": "code",
   "execution_count": 14,
   "id": "b859ddb7",
   "metadata": {},
   "outputs": [
    {
     "name": "stdout",
     "output_type": "stream",
     "text": [
      "1    12\n",
      "2    12\n",
      "3    12\n",
      "4    12\n",
      "5    12\n",
      "dtype: int64\n"
     ]
    }
   ],
   "source": [
    "s = pd.Series(12 , index = [1,2,3,4,5] )\n",
    "print(s)"
   ]
  },
  {
   "cell_type": "markdown",
   "id": "2fbbd888",
   "metadata": {},
   "source": [
    "# adding two pandas series "
   ]
  },
  {
   "cell_type": "code",
   "execution_count": 15,
   "id": "5cfaf14b",
   "metadata": {},
   "outputs": [
    {
     "name": "stdout",
     "output_type": "stream",
     "text": [
      "1    25.0\n",
      "2    25.0\n",
      "3    25.0\n",
      "4    25.0\n",
      "4    25.0\n",
      "5     NaN\n",
      "6     NaN\n",
      "7     NaN\n",
      "8     NaN\n",
      "dtype: float64\n"
     ]
    }
   ],
   "source": [
    "s1 = pd.Series(12 , index = [1,2,3,4,5,6,7,8])\n",
    "s2 = pd.Series(13 , index = [1,2,3,4,4])\n",
    "print(s1+s2)"
   ]
  },
  {
   "cell_type": "markdown",
   "id": "bb9c432e",
   "metadata": {},
   "source": [
    "# DATA FRAME 2D data structre"
   ]
  },
  {
   "cell_type": "code",
   "execution_count": 16,
   "id": "e3c10ff9",
   "metadata": {},
   "outputs": [
    {
     "name": "stdout",
     "output_type": "stream",
     "text": [
      "    0\n",
      "0  10\n",
      "1  11\n",
      "2  12\n",
      "3  12\n",
      "4  13\n",
      "5  14\n",
      "<class 'pandas.core.frame.DataFrame'>\n"
     ]
    }
   ],
   "source": [
    "x = [10 , 11 , 12 , 12, 13, 14]\n",
    "var = pd.DataFrame(x)\n",
    "print(var)\n",
    "print(type(var))"
   ]
  },
  {
   "cell_type": "code",
   "execution_count": 17,
   "id": "c46c5de1",
   "metadata": {},
   "outputs": [
    {
     "name": "stdout",
     "output_type": "stream",
     "text": [
      "      name  salary\n",
      "0   ankita   90000\n",
      "1    rashi  100000\n",
      "2  rushali   80000\n",
      "<class 'pandas.core.frame.DataFrame'>\n"
     ]
    }
   ],
   "source": [
    "dic = {\"name\" : ['ankita' , 'rashi' , 'rushali'] , 'salary':[90000,100000,80000]}\n",
    "#length should be same \n",
    "var1 = pd.DataFrame(dic)\n",
    "print(var1)\n",
    "print(type(var1))"
   ]
  },
  {
   "cell_type": "markdown",
   "id": "71437cda",
   "metadata": {},
   "source": [
    "# column indexing in data frame"
   ]
  },
  {
   "cell_type": "code",
   "execution_count": 18,
   "id": "b29aea3d",
   "metadata": {},
   "outputs": [
    {
     "name": "stdout",
     "output_type": "stream",
     "text": [
      "     fname  salary\n",
      "0   ankita   90000\n",
      "1    rashi   80000\n",
      "2     anku   70000\n",
      "3  rushali   98000\n"
     ]
    }
   ],
   "source": [
    "dic2 = {'fname' : ['ankita' , 'rashi' , 'anku' , 'rushali'] ,\n",
    "        'lname' : ['tiwari' , 'tiwari'] ,\n",
    "         'salary' : [90000,80000,70000 , 98000] ,\n",
    "         1 : [1,2,3,4]}\n",
    "var = pd.DataFrame(dic2 , columns =['fname' , 'salary'])\n",
    "print(var)"
   ]
  },
  {
   "cell_type": "markdown",
   "id": "fa9fe8b9",
   "metadata": {},
   "source": [
    "# to get data from rows"
   ]
  },
  {
   "cell_type": "code",
   "execution_count": 25,
   "id": "3f36ea99",
   "metadata": {},
   "outputs": [
    {
     "name": "stdout",
     "output_type": "stream",
     "text": [
      "     fname   lname  salary  1\n",
      "0   ankita  tiwari   90000  1\n",
      "1    rashi  tiwari   80000  2\n",
      "2     anku  tiwari   70000  3\n",
      "3  rushali  tiwari   98000  4\n",
      "ankita\n"
     ]
    }
   ],
   "source": [
    "dic2 = {'fname' : ['ankita' , 'rashi' , 'anku' , 'rushali'] ,\n",
    "        'lname' : ['tiwari' , 'tiwari' , 'tiwari' , 'tiwari'] ,\n",
    "         'salary' : [90000,80000,70000 , 98000] ,\n",
    "         1 : [1,2,3,4]}\n",
    "var1 = pd.DataFrame(dic2)\n",
    "print(var1)\n",
    "\n",
    "print(var1['fname'][0] )"
   ]
  },
  {
   "cell_type": "code",
   "execution_count": 27,
   "id": "181c55dc",
   "metadata": {},
   "outputs": [
    {
     "name": "stdout",
     "output_type": "stream",
     "text": [
      "    0      1     2   3\n",
      "0   1      2     3   4\n",
      "1  hi  hello  hnmm  ok\n"
     ]
    }
   ],
   "source": [
    "#using list\n",
    "list1 = [[1,2,3,4],['hi' , 'hello' , 'hnmm' ,'ok']]\n",
    "var2 = pd.DataFrame(list1)\n",
    "print(var2)"
   ]
  },
  {
   "cell_type": "code",
   "execution_count": 29,
   "id": "8e06b14f",
   "metadata": {},
   "outputs": [
    {
     "name": "stdout",
     "output_type": "stream",
     "text": [
      "   s   p\n",
      "0  1  12\n",
      "1  2  23\n",
      "2  3  34\n",
      "3  4  44\n"
     ]
    }
   ],
   "source": [
    "s1 = {'s': pd.Series([1,2,3,4]), 'p': pd.Series([12,23,34,44])}\n",
    "var3 = pd.DataFrame(s1)\n",
    "print(var3)"
   ]
  },
  {
   "cell_type": "code",
   "execution_count": null,
   "id": "0dbdf258",
   "metadata": {},
   "outputs": [],
   "source": []
  }
 ],
 "metadata": {
  "kernelspec": {
   "display_name": "Python 3 (ipykernel)",
   "language": "python",
   "name": "python3"
  },
  "language_info": {
   "codemirror_mode": {
    "name": "ipython",
    "version": 3
   },
   "file_extension": ".py",
   "mimetype": "text/x-python",
   "name": "python",
   "nbconvert_exporter": "python",
   "pygments_lexer": "ipython3",
   "version": "3.11.5"
  }
 },
 "nbformat": 4,
 "nbformat_minor": 5
}
